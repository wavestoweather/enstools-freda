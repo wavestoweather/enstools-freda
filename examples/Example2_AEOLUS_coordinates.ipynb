{
 "cells": [
  {
   "cell_type": "code",
   "execution_count": null,
   "metadata": {},
   "outputs": [],
   "source": [
    "%matplotlib widget\n",
    "from ipywidgets import *\n",
    "import numpy as np\n",
    "from datetime import datetime\n",
    "from enstools.da.support.instruments.satellites.track_aeolus import aeolus_like_coordinates\n",
    "import matplotlib.pyplot as plt\n",
    "from mpl_toolkits.mplot3d import Axes3D\n",
    "import cartopy.crs as ccrs"
   ]
  },
  {
   "cell_type": "markdown",
   "metadata": {},
   "source": [
    "Create plots of the reference time 2020-11-24"
   ]
  },
  {
   "cell_type": "code",
   "execution_count": null,
   "metadata": {},
   "outputs": [],
   "source": [
    "start_time = datetime(2020, 11, 24)\n",
    "end_time = datetime(2020, 11, 24, 1, 31)"
   ]
  },
  {
   "cell_type": "code",
   "execution_count": null,
   "metadata": {},
   "outputs": [],
   "source": [
    "line1 = None\n",
    "line2 = None\n",
    "fig = plt.figure(2)\n",
    "\n",
    "def sat_plot(longitude, latitude):\n",
    "    ax1 = fig.add_subplot(1, 2, 1, projection=ccrs.Robinson())\n",
    "    ax1.set_global()\n",
    "    ax1.stock_img()\n",
    "    ax1.coastlines()\n",
    "    return ax1.plot(longitude, latitude,\"r\", transform=ccrs.Geodetic())\n",
    "\n",
    "\n",
    "def orbit_plot(x,y,z):\n",
    "    halfpi, pi, twopi = [f*np.pi for f in (0.5, 1, 2)]\n",
    "    degs, rads = 180/pi, pi/180\n",
    "    re = 6378.\n",
    "    theta = np.linspace(0, twopi, 201)\n",
    "    cth, sth, zth = [f(theta) for f in (np.cos, np.sin, np.zeros_like)]\n",
    "    lon0 = re*np.vstack((cth, zth, sth))\n",
    "    lons = []\n",
    "    for phi in rads*np.arange(0, 180, 15):\n",
    "        cph, sph = [f(phi) for f in (np.cos, np.sin)]\n",
    "        lon = np.vstack((lon0[0]*cph - lon0[1]*sph,\n",
    "                         lon0[1]*cph + lon0[0]*sph,\n",
    "                         lon0[2]) )\n",
    "        lons.append(lon)\n",
    "\n",
    "    lat0 = re*np.vstack((cth, sth, zth))\n",
    "    lats = []\n",
    "\n",
    "    for phi in rads*np.arange(-75, 90, 15):\n",
    "        cph, sph = [f(phi) for f in (np.cos, np.sin)]\n",
    "        lat = re*np.vstack((cth*cph, sth*cph, zth+sph))\n",
    "        lats.append(lat)\n",
    "\n",
    "    ax2  = fig.add_subplot(1, 2, 2, projection='3d')\n",
    "\n",
    "    for xlo, ylo, zlo in lons:\n",
    "        ax2.plot(xlo, ylo, zlo, '-k')\n",
    "    for xla, yla, zla in lats:\n",
    "        ax2.plot(xla, yla, zla, '-k')\n",
    "    return ax2.plot(x, y, z, \"r-\")\n",
    "\n",
    "\n",
    "def update(start_lon, offset):\n",
    "    global line1, line2\n",
    "    lon, lat, x, y, z = aeolus_like_coordinates(start_time, end_time, start_lon, offset, include_metric=True)\n",
    "    if line1 is None:\n",
    "        line1, = sat_plot(lon, lat)\n",
    "        line2, = orbit_plot(x,y,z)\n",
    "    else:\n",
    "        line1.set_ydata(lat)\n",
    "        line1.set_xdata(lon)\n",
    "        line2.set_data_3d(x,y,z)"
   ]
  },
  {
   "cell_type": "code",
   "execution_count": null,
   "metadata": {
    "scrolled": true
   },
   "outputs": [],
   "source": [
    "interact(update, start_lon=(-180,180), offset=(-180,180))"
   ]
  },
  {
   "cell_type": "code",
   "execution_count": null,
   "metadata": {},
   "outputs": [],
   "source": []
  }
 ],
 "metadata": {
  "kernelspec": {
   "display_name": "enstools-nda",
   "language": "python",
   "name": "enstools-nda"
  },
  "language_info": {
   "codemirror_mode": {
    "name": "ipython",
    "version": 3
   },
   "file_extension": ".py",
   "mimetype": "text/x-python",
   "name": "python",
   "nbconvert_exporter": "python",
   "pygments_lexer": "ipython3",
   "version": "3.7.3"
  }
 },
 "nbformat": 4,
 "nbformat_minor": 4
}
